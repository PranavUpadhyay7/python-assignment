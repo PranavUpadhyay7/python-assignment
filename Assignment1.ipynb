{
 "cells": [
  {
   "cell_type": "code",
   "execution_count": null,
   "metadata": {},
   "outputs": [],
   "source": [
    "import sys\n",
    "\n",
    "print('Prajjwal Pratap Shah')\n",
    "print('Master of Computer Applications')\n",
    "print(sys.version)"
   ]
  },
  {
   "cell_type": "code",
   "execution_count": null,
   "metadata": {},
   "outputs": [],
   "source": [
    "print('Hello, Python World!')"
   ]
  },
  {
   "cell_type": "code",
   "execution_count": null,
   "metadata": {},
   "outputs": [],
   "source": [
    "name = input(\"Enter your full name: \")\n",
    "name = name.strip() # Removes leading and trailing blank spaces\n",
    "name_parts = name.split()  # Splits the name at blank spaces\n",
    "print(name_parts[len(name_parts) - 1] + ' ' + name_parts[0])"
   ]
  },
  {
   "cell_type": "code",
   "execution_count": null,
   "metadata": {},
   "outputs": [],
   "source": [
    "number = input(\"Enter a number: \")\n",
    "\n",
    "integer_number = int(number)\n",
    "float_number = float(number)\n",
    "complex_number = complex(number)\n",
    "\n",
    "print(\"Integer:\", integer_number) # This is a Integer number that is a whole number\n",
    "print(\"Float:\", float_number) # This is a Float number that is a decimal number\n",
    "print(\"Complex:\", complex_number) # This is a Complex number that is a number with a real and imaginary part"
   ]
  },
  {
   "cell_type": "code",
   "execution_count": null,
   "metadata": {},
   "outputs": [],
   "source": [
    "length = float(input(\"Enter the length of the rectangle: \"))\n",
    "width = float(input(\"Enter the width of the rectangle: \"))\n",
    "\n",
    "area = length * width\n",
    "\n",
    "print(\"The area of the rectangle is \", area)"
   ]
  },
  {
   "cell_type": "code",
   "execution_count": null,
   "metadata": {},
   "outputs": [],
   "source": [
    "length = float(input(\"Enter the length of the rectangle: \"))\n",
    "width = float(input(\"Enter the width of the rectangle: \"))\n",
    "\n",
    "area = length * width\n",
    "area_text = \"The area of the rectangle is {0:.2f}\"\n",
    "\n",
    "print(area_text.format(area))"
   ]
  },
  {
   "cell_type": "code",
   "execution_count": null,
   "metadata": {},
   "outputs": [],
   "source": [
    "first_num = float(input(\"Enter the first number: \"))\n",
    "second_num = float(input(\"Enter the second number: \"))\n",
    "third_num = float(input(\"Enter the third number: \"))\n",
    "\n",
    "average = (first_num + second_num + third_num) / 3\n",
    "\n",
    "print(\"The average of the three numbers is: %.2f\" % average)"
   ]
  },
  {
   "cell_type": "code",
   "execution_count": null,
   "metadata": {},
   "outputs": [],
   "source": [
    "while True:\n",
    "    user_input = input(\"Enter a number: \")\n",
    "    if user_input != \"exit\":\n",
    "        number = int(user_input)\n",
    "        if number > 0:\n",
    "            print(\"Positive\")\n",
    "        elif number < 0:\n",
    "            print(\"Negative\")\n",
    "        else:\n",
    "            print(\"Zero\")\n",
    "        continue\n",
    "    break"
   ]
  },
  {
   "cell_type": "code",
   "execution_count": null,
   "metadata": {},
   "outputs": [],
   "source": [
    "first_num = int(input(\"Enter the first number: \"))\n",
    "second_num = int(input(\"Enter the second number: \"))\n",
    "\n",
    "if first_num % 2 == 0 and second_num % 2 == 0:\n",
    "    print(\"Both numbers are even\")\n",
    "elif first_num % 2 != 0 and second_num % 2 != 0:\n",
    "    print(\"Both numbers are odd\")\n",
    "else:\n",
    "    print(\"One of each\")"
   ]
  },
  {
   "cell_type": "code",
   "execution_count": null,
   "metadata": {},
   "outputs": [],
   "source": [
    "number = int(input(\"Enter an integer: \"))\n",
    "\n",
    "def convert_number(num):\n",
    "    # Binary conversion\n",
    "    binary = \"\"\n",
    "    temp = num\n",
    "    for _ in range(num.bit_length()):\n",
    "        binary = str(temp & 1) + binary\n",
    "        temp = temp >> 1\n",
    "\n",
    "    # Octal conversion\n",
    "    octal = \"\"\n",
    "    temp = num\n",
    "    for _ in range((num.bit_length() + 2) // 3):\n",
    "        octal = str(temp & 7) + octal\n",
    "        temp = temp >> 3\n",
    "\n",
    "    # Hexadecimal conversion\n",
    "    hex_chars = \"0123456789ABCDEF\"\n",
    "    hexadecimal = \"\"\n",
    "    temp = num\n",
    "    for _ in range((num.bit_length() + 3) // 4):\n",
    "        hexadecimal = hex_chars[temp & 15] + hexadecimal\n",
    "        temp = temp >> 4\n",
    "\n",
    "    return binary, octal, hexadecimal\n",
    "\n",
    "binary, octal, hexadecimal = convert_number(number)\n",
    "print(f\"Binary: {binary}\")\n",
    "print(f\"Octal: {octal}\")\n",
    "print(f\"Hexadecimal: {hexadecimal}\")"
   ]
  }
 ],
 "metadata": {
  "kernelspec": {
   "display_name": "Python 3",
   "language": "python",
   "name": "python3"
  },
  "language_info": {
   "codemirror_mode": {
    "name": "ipython",
    "version": 3
   },
   "file_extension": ".py",
   "mimetype": "text/x-python",
   "name": "python",
   "nbconvert_exporter": "python",
   "pygments_lexer": "ipython3",
   "version": "3.10.11"
  }
 },
 "nbformat": 4,
 "nbformat_minor": 2
}
